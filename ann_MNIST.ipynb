{
  "nbformat": 4,
  "nbformat_minor": 0,
  "metadata": {
    "colab": {
      "provenance": []
    },
    "kernelspec": {
      "name": "python3",
      "display_name": "Python 3"
    },
    "language_info": {
      "name": "python"
    }
  },
  "cells": [
    {
      "cell_type": "code",
      "execution_count": 1,
      "metadata": {
        "id": "FK17j1Be7_6C"
      },
      "outputs": [],
      "source": [
        "import numpy as np\n",
        "import torch\n",
        "import torch.nn.functional as F\n",
        "import torchvision\n",
        "import matplotlib.pyplot as plt\n",
        "from time import time\n",
        "from torchvision import datasets, transforms\n",
        "from torch import nn, optim"
      ]
    },
    {
      "cell_type": "code",
      "source": [
        "#Imagem será convertida em um tensor\n",
        "transform =  transforms.ToTensor()\n",
        "\n",
        "# Dataset de treino\n",
        "trainSet = datasets.MNIST('./MNIST_data/', download=True, train=True,transform=transform)\n",
        "#Buffer de dados de treino\n",
        "trainLoader = torch.utils.data.DataLoader(trainSet, batch_size=(64), shuffle=True)\n",
        "\n",
        "valSet = datasets.MNIST('./MNIST_data/', download=True, train=False,transform=transform)\n",
        "valLoader = torch.utils.data.DataLoader(valSet, batch_size=(64), shuffle=True)"
      ],
      "metadata": {
        "colab": {
          "base_uri": "https://localhost:8080/"
        },
        "id": "XKM3PKDm8L-Z",
        "outputId": "49134b3c-3b4e-4e13-f7a3-85c439d47964"
      },
      "execution_count": 2,
      "outputs": [
        {
          "output_type": "stream",
          "name": "stdout",
          "text": [
            "Downloading http://yann.lecun.com/exdb/mnist/train-images-idx3-ubyte.gz\n",
            "Downloading http://yann.lecun.com/exdb/mnist/train-images-idx3-ubyte.gz to ./MNIST_data/MNIST/raw/train-images-idx3-ubyte.gz\n"
          ]
        },
        {
          "output_type": "stream",
          "name": "stderr",
          "text": [
            "100%|██████████| 9912422/9912422 [00:00<00:00, 35841315.77it/s]\n"
          ]
        },
        {
          "output_type": "stream",
          "name": "stdout",
          "text": [
            "Extracting ./MNIST_data/MNIST/raw/train-images-idx3-ubyte.gz to ./MNIST_data/MNIST/raw\n",
            "\n",
            "Downloading http://yann.lecun.com/exdb/mnist/train-labels-idx1-ubyte.gz\n",
            "Downloading http://yann.lecun.com/exdb/mnist/train-labels-idx1-ubyte.gz to ./MNIST_data/MNIST/raw/train-labels-idx1-ubyte.gz\n"
          ]
        },
        {
          "output_type": "stream",
          "name": "stderr",
          "text": [
            "100%|██████████| 28881/28881 [00:00<00:00, 21523755.12it/s]\n"
          ]
        },
        {
          "output_type": "stream",
          "name": "stdout",
          "text": [
            "Extracting ./MNIST_data/MNIST/raw/train-labels-idx1-ubyte.gz to ./MNIST_data/MNIST/raw\n",
            "\n",
            "Downloading http://yann.lecun.com/exdb/mnist/t10k-images-idx3-ubyte.gz\n",
            "Downloading http://yann.lecun.com/exdb/mnist/t10k-images-idx3-ubyte.gz to ./MNIST_data/MNIST/raw/t10k-images-idx3-ubyte.gz\n"
          ]
        },
        {
          "output_type": "stream",
          "name": "stderr",
          "text": [
            "100%|██████████| 1648877/1648877 [00:00<00:00, 42066954.15it/s]"
          ]
        },
        {
          "output_type": "stream",
          "name": "stdout",
          "text": [
            "Extracting ./MNIST_data/MNIST/raw/t10k-images-idx3-ubyte.gz to ./MNIST_data/MNIST/raw\n"
          ]
        },
        {
          "output_type": "stream",
          "name": "stderr",
          "text": [
            "\n"
          ]
        },
        {
          "output_type": "stream",
          "name": "stdout",
          "text": [
            "\n",
            "Downloading http://yann.lecun.com/exdb/mnist/t10k-labels-idx1-ubyte.gz\n",
            "Downloading http://yann.lecun.com/exdb/mnist/t10k-labels-idx1-ubyte.gz to ./MNIST_data/MNIST/raw/t10k-labels-idx1-ubyte.gz\n"
          ]
        },
        {
          "output_type": "stream",
          "name": "stderr",
          "text": [
            "100%|██████████| 4542/4542 [00:00<00:00, 3453685.42it/s]\n"
          ]
        },
        {
          "output_type": "stream",
          "name": "stdout",
          "text": [
            "Extracting ./MNIST_data/MNIST/raw/t10k-labels-idx1-ubyte.gz to ./MNIST_data/MNIST/raw\n",
            "\n"
          ]
        }
      ]
    },
    {
      "cell_type": "code",
      "source": [
        "type(trainSet)"
      ],
      "metadata": {
        "colab": {
          "base_uri": "https://localhost:8080/"
        },
        "id": "t50nEl9-g2ze",
        "outputId": "cb456c52-ae05-4d95-e1ed-5914104dea80"
      },
      "execution_count": 13,
      "outputs": [
        {
          "output_type": "execute_result",
          "data": {
            "text/plain": [
              "torchvision.datasets.mnist.MNIST"
            ]
          },
          "metadata": {},
          "execution_count": 13
        }
      ]
    },
    {
      "cell_type": "code",
      "source": [
        "# Iterar sobre o DataLoader usando um loop for\n",
        "for img, label in trainLoader:\n",
        "    plt.imshow(img[0].numpy().squeeze(), cmap='gray_r')\n",
        "    plt.show()\n",
        "    print(\"Shape da imagem:\", img[0].shape)\n",
        "    break"
      ],
      "metadata": {
        "colab": {
          "base_uri": "https://localhost:8080/",
          "height": 448
        },
        "id": "2me2-xpyFe9l",
        "outputId": "eb7b1f22-fd59-4a17-c001-ba0845ecead1"
      },
      "execution_count": 6,
      "outputs": [
        {
          "output_type": "display_data",
          "data": {
            "text/plain": [
              "<Figure size 640x480 with 1 Axes>"
            ],
            "image/png": "[encoded data removed]"
          },
          "metadata": {}
        },
        {
          "output_type": "stream",
          "name": "stdout",
          "text": [
            "Shape da imagem: torch.Size([1, 28, 28])\n"
          ]
        }
      ]
    },
    {
      "cell_type": "code",
      "source": [
        "class Model(nn.Module):\n",
        "  def __init__(self):\n",
        "    super(Model, self).__init__()\n",
        "    self.linear1 = nn.Linear(28*28,128)\n",
        "    self.linear2 = nn.Linear(128,64)\n",
        "    self.linear3 = nn.Linear(64,10)\n",
        "\n",
        "  def forward(self,X):\n",
        "    X = F.relu(self.linear1(X))\n",
        "    X = F.relu(self.linear2(X))\n",
        "    X = self.linear3(X)\n",
        "    return F.log_softmax(X, dim=1)"
      ],
      "metadata": {
        "id": "YuGB7xcnK-tJ"
      },
      "execution_count": 7,
      "outputs": []
    },
    {
      "cell_type": "code",
      "source": [
        "def train(model, trainLoader, device):\n",
        "  optimizer = optim.SGD(model.parameters(), lr=0.01, momentum=0.5)\n",
        "\n",
        "  init = time()\n",
        "\n",
        "  criterion = nn.NLLLoss()\n",
        "  epochs = 10\n",
        "  model.train()\n",
        "\n",
        "  for epoch in range(epochs):\n",
        "    acm_loss = 0\n",
        "\n",
        "    for imgs, labels in trainLoader:\n",
        "      imgs = imgs.view(imgs.shape[0], -1)\n",
        "      optimizer.zero_grad()\n",
        "\n",
        "      output = model(imgs.to(device))\n",
        "      instant_loss = criterion(output, labels.to(device))\n",
        "      instant_loss.backward()\n",
        "\n",
        "      optimizer.step()\n",
        "\n",
        "      acm_loss += instant_loss.item()\n",
        "\n",
        "    else:\n",
        "      print(\"Epoch {} - Resultant Loss {}\".format(epoch+1, acm_loss/len(trainLoader)))\n",
        "\n",
        "  print(\"\\n Training time (in minutes):\", (time()-init)/60)"
      ],
      "metadata": {
        "id": "3hihGo1Uxig0"
      },
      "execution_count": 8,
      "outputs": []
    },
    {
      "cell_type": "code",
      "source": [
        "def validate(modelo, valLoader, device):\n",
        "  right_answer, all_answer = 0,0\n",
        "\n",
        "  for imgs, labels in valLoader:\n",
        "    for i in range(len(labels)):\n",
        "      img = imgs[i].view(1,784)\n",
        "      with torch.no_grad():\n",
        "        logps = modelo(img.to(device))\n",
        "\n",
        "      ps = torch.exp(logps)\n",
        "      prob = list(ps.cpu().numpy()[0])\n",
        "      label_pred = prob.index(max(prob))\n",
        "      right_label = labels.numpy()[i]\n",
        "\n",
        "      if(right_label == label_pred):\n",
        "        right_answer += 1\n",
        "\n",
        "      all_answer += 1\n",
        "\n",
        "  print(\"All tested images:\", all_answer)\n",
        "  print(\"Model accuracy: {}%\".format(right_answer*100/all_answer))\n"
      ],
      "metadata": {
        "id": "cFSv-bBV0NRU"
      },
      "execution_count": 9,
      "outputs": []
    },
    {
      "cell_type": "code",
      "source": [
        "model = Model()\n",
        "\n",
        "device = torch.device(\"cuda\" if torch.cuda.is_available() else \"cpu\")\n",
        "model.to(device)"
      ],
      "metadata": {
        "colab": {
          "base_uri": "https://localhost:8080/"
        },
        "id": "wudqZaGF2Rfs",
        "outputId": "1a3a278d-52aa-42cc-c20b-98914e371c6d"
      },
      "execution_count": 10,
      "outputs": [
        {
          "output_type": "execute_result",
          "data": {
            "text/plain": [
              "Model(\n",
              "  (linear1): Linear(in_features=784, out_features=128, bias=True)\n",
              "  (linear2): Linear(in_features=128, out_features=64, bias=True)\n",
              "  (linear3): Linear(in_features=64, out_features=10, bias=True)\n",
              ")"
            ]
          },
          "metadata": {},
          "execution_count": 10
        }
      ]
    },
    {
      "cell_type": "code",
      "source": [
        "train(model, trainLoader, device)"
      ],
      "metadata": {
        "colab": {
          "base_uri": "https://localhost:8080/"
        },
        "id": "uWOwnvgT20pc",
        "outputId": "ad6ac2e7-5dff-4573-a4d3-7fc22789b4c0"
      },
      "execution_count": 11,
      "outputs": [
        {
          "output_type": "stream",
          "name": "stdout",
          "text": [
            "Epoch 1 - Resultant Loss 1.1993162666937944\n",
            "Epoch 2 - Resultant Loss 0.38203479663363654\n",
            "Epoch 3 - Resultant Loss 0.31118188583170936\n",
            "Epoch 4 - Resultant Loss 0.2708826340965307\n",
            "Epoch 5 - Resultant Loss 0.23966927369282062\n",
            "Epoch 6 - Resultant Loss 0.21315900027465973\n",
            "Epoch 7 - Resultant Loss 0.19143633254523726\n",
            "Epoch 8 - Resultant Loss 0.1726333050132751\n",
            "Epoch 9 - Resultant Loss 0.15733553277753565\n",
            "Epoch 10 - Resultant Loss 0.14421678843822625\n",
            "\n",
            " Training time (in minutes): 1.612431287765503\n"
          ]
        }
      ]
    },
    {
      "cell_type": "code",
      "source": [
        "validate(model, valLoader, device)"
      ],
      "metadata": {
        "colab": {
          "base_uri": "https://localhost:8080/"
        },
        "id": "2vuNJN7_5Nqk",
        "outputId": "01299521-ceec-47b9-9d8a-ebc5cab73c0d"
      },
      "execution_count": 12,
      "outputs": [
        {
          "output_type": "stream",
          "name": "stdout",
          "text": [
            "All tested images: 10000\n",
            "Model accuracy: 95.9%\n"
          ]
        }
      ]
    }
  ]
}